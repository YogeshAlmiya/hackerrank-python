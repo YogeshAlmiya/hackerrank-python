{
 "cells": [
  {
   "cell_type": "code",
   "execution_count": 4,
   "metadata": {},
   "outputs": [
    {
     "name": "stdout",
     "output_type": "stream",
     "text": [
      "5\n",
      "hart\n",
      "22\n",
      "lia\n",
      "23\n",
      "kia\n",
      "31\n",
      "krith\n",
      "33\n",
      "michelle\n",
      "30\n",
      "lia\n"
     ]
    }
   ],
   "source": [
    "d={}\n",
    "for _ in range(int(input())): \n",
    "    Name=input() \n",
    "    Grade=float(input())\n",
    "    d[Name]=Grade \n",
    "v=d.values()\n",
    "second=sorted(list(set(v)))[1] \n",
    "second_lowest=[] \n",
    "for key,value in d.items(): \n",
    "    if value==second: \n",
    "        second_lowest.append(key) \n",
    "second_lowest.sort() \n",
    "for name in second_lowest: \n",
    "    print(name) \n"
   ]
  }
 ],
 "metadata": {
  "kernelspec": {
   "display_name": "Python 3",
   "language": "python",
   "name": "python3"
  },
  "language_info": {
   "codemirror_mode": {
    "name": "ipython",
    "version": 3
   },
   "file_extension": ".py",
   "mimetype": "text/x-python",
   "name": "python",
   "nbconvert_exporter": "python",
   "pygments_lexer": "ipython3",
   "version": "3.6.5"
  }
 },
 "nbformat": 4,
 "nbformat_minor": 4
}
