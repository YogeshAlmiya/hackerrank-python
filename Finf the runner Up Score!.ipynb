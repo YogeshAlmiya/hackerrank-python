{
 "cells": [
  {
   "cell_type": "markdown",
   "metadata": {},
   "source": [
    "<h3>Given the participants' score sheet for your University Sports Day, you are required to find the runner-up score. You are given <b>n</b>  scores. Store them in a list and find the score of the runner-up.</h3>"
   ]
  },
  {
   "cell_type": "code",
   "execution_count": 1,
   "metadata": {},
   "outputs": [
    {
     "name": "stdout",
     "output_type": "stream",
     "text": [
      "4\n",
      "1 2 4 54\n",
      "4\n"
     ]
    }
   ],
   "source": [
    "n = int(input())\n",
    "a = [int(x) for x in input().split()]\n",
    "largest = secondlargest = -100\n",
    "for x in a:\n",
    "    if x > largest:\n",
    "        tmp = largest\n",
    "        largest = x\n",
    "        secondlargest = tmp\n",
    "    elif x > secondlargest and x != largest:\n",
    "        secondlargest = x\n",
    "print(secondlargest)\n"
   ]
  }
 ],
 "metadata": {
  "kernelspec": {
   "display_name": "Python 3",
   "language": "python",
   "name": "python3"
  },
  "language_info": {
   "codemirror_mode": {
    "name": "ipython",
    "version": 3
   },
   "file_extension": ".py",
   "mimetype": "text/x-python",
   "name": "python",
   "nbconvert_exporter": "python",
   "pygments_lexer": "ipython3",
   "version": "3.6.5"
  }
 },
 "nbformat": 4,
 "nbformat_minor": 4
}
